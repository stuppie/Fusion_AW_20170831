{
 "cells": [
  {
   "cell_type": "code",
   "execution_count": null,
   "metadata": {},
   "outputs": [],
   "source": [
    "import os\n",
    "import sys\n",
    "sys.path.insert(0, \"/home/gstupp/projects/metaproteomics/\")\n",
    "#BASE = os.path.join(os.path.dirname(os.path.realpath(sys.argv[0])), \"..\")\n",
    "BASE = \"/home/gstupp/projects/Wolan/wolan/Fusion_AW_20170831\"\n",
    "DATA = os.path.join(BASE, \"data\")\n",
    "OUT = os.path.join(BASE, \"out\")\n",
    "\n",
    "from metaproteomics import utils\n",
    "import pandas as pd\n",
    "from itertools import chain\n",
    "import re\n",
    "import shelve\n",
    "from tqdm import tqdm\n",
    "import numpy as np\n",
    "import matplotlib.pyplot as plt\n",
    "from sklearn import preprocessing\n",
    "from collections import Counter\n",
    "from collections import defaultdict\n",
    "\n",
    "from metaproteomics.analysis import build_loci ,functional_analysis\n",
    "from metaproteomics.analysis.DBInfo import DBInfo\n",
    "\n",
    "f = functional_analysis.Functionizer()\n",
    "\n",
    "db_info = DBInfo(\"compil_mgm\")\n",
    "metadata = build_loci.read_metadata(\"metadata.csv\")"
   ]
  },
  {
   "cell_type": "code",
   "execution_count": null,
   "metadata": {},
   "outputs": [],
   "source": [
    "metadata.T"
   ]
  },
  {
   "cell_type": "code",
   "execution_count": null,
   "metadata": {},
   "outputs": [],
   "source": [
    "#%% Parse samples\n",
    "samples = shelve.open(os.path.join(OUT,\"samples.shelve\"))\n",
    "for sample_name, sample_info in tqdm(list(metadata.iteritems())):\n",
    "    sample = build_loci.Sample(sample_name, sample_info.path, db_info, sample_info)\n",
    "    samples[sample.sample_name] = sample"
   ]
  },
  {
   "cell_type": "code",
   "execution_count": null,
   "metadata": {},
   "outputs": [],
   "source": [
    "# Build protein clusters for each sample\n",
    "protein_clusters = shelve.open(os.path.join(OUT,\"protein_clusters.shelve\"))\n",
    "for name,sample in samples.items():\n",
    "    protein_clusters[name] = sample.build_protein_clusters()"
   ]
  },
  {
   "cell_type": "code",
   "execution_count": null,
   "metadata": {},
   "outputs": [],
   "source": [
    "# generate proteins clusters across all samples\n",
    "sample_pep_quant = {sample.sample_name:sample.pep_quant for sample in samples.values()}\n",
    "grouped_loci = build_loci.group_across_samples(list(chain(*protein_clusters.values())), sample_pep_quant)\n",
    "utils.save(grouped_loci, os.path.join(OUT,\"grouped_loci.pkl.gz\"), force=True)"
   ]
  },
  {
   "cell_type": "code",
   "execution_count": null,
   "metadata": {},
   "outputs": [],
   "source": [
    "# write out matrix\n",
    "df = build_loci.to_df(grouped_loci, norm=False)\n",
    "df.T.to_csv(os.path.join(OUT,\"df.csv\"))"
   ]
  },
  {
   "cell_type": "code",
   "execution_count": null,
   "metadata": {},
   "outputs": [],
   "source": [
    "df.shape"
   ]
  },
  {
   "cell_type": "code",
   "execution_count": null,
   "metadata": {},
   "outputs": [],
   "source": [
    "grouped_loci = utils.load(os.path.join(OUT,\"grouped_loci.pkl.gz\"))"
   ]
  },
  {
   "cell_type": "code",
   "execution_count": null,
   "metadata": {},
   "outputs": [],
   "source": [
    "# filter loci, min spectral count of 4 in at least two samples\n",
    "min_quant = 4\n",
    "min_samples = 2\n",
    "grouped_loci = [locus for locus in grouped_loci if len([x for x in locus.quantification.values() if x>=min_quant]) >= min_samples]\n",
    "len(grouped_loci)"
   ]
  },
  {
   "cell_type": "code",
   "execution_count": null,
   "metadata": {},
   "outputs": [],
   "source": [
    "utils.save(grouped_loci, os.path.join(OUT,\"grouped_loci_filt.pkl.gz\"), force=True)"
   ]
  },
  {
   "cell_type": "code",
   "execution_count": null,
   "metadata": {},
   "outputs": [],
   "source": [
    "df = build_loci.to_df(grouped_loci, norm=False)\n",
    "df.T.to_csv(os.path.join(OUT,\"df_filt.csv\"))\n",
    "df.shape"
   ]
  },
  {
   "cell_type": "code",
   "execution_count": null,
   "metadata": {},
   "outputs": [],
   "source": [
    "# run functional annotation\n",
    "for locus in tqdm(grouped_loci):\n",
    "    locus.annotate()\n",
    "utils.save(grouped_loci, os.path.join(OUT,\"grouped_loci_filt_annot.pkl.gz\"), force=True)"
   ]
  },
  {
   "cell_type": "code",
   "execution_count": null,
   "metadata": {},
   "outputs": [],
   "source": [
    "#%% mark as human/mouse and other\n",
    "from metaproteomics.analysis import taxonomy\n",
    "t = taxonomy.Taxonomy(host=\"wl-cmadmin.scripps.edu\")\n",
    "# human or mouse taxids and ancestors (up to the phylum chordata (7711)):\n",
    "chordata = set(t.taxid_to_taxonomy(7711)['lineage'])\n",
    "human = set(t.taxid_to_taxonomy(9606)['lineage']) - chordata\n",
    "mouse = set(t.taxid_to_taxonomy(10090)['lineage']) - chordata\n",
    "human_mouse = human | mouse\n",
    "for locus in grouped_loci:\n",
    "    locus.human_mouse = True if locus.lca in human_mouse else False"
   ]
  },
  {
   "cell_type": "code",
   "execution_count": null,
   "metadata": {},
   "outputs": [],
   "source": [
    "#%% Build a locus -> metadata table\n",
    "for locus in grouped_loci:\n",
    "    names = [x['d'] for x in locus.prot_info]\n",
    "    gn=set(chain(*[re.findall(\"GN=([^ ]*)\",name) for name in names]))\n",
    "    locus.gn = ','.join(gn) if gn else ''\n",
    "    locus.gn1 = list(gn)[0] if len(gn)==1 else ''\n",
    "locus_df = pd.DataFrame({locus.cluster_id: {'name': locus.name, 'human_mouse': locus.human_mouse, 'lca':locus.lca, 'gn':locus.gn, 'gn1':locus.gn1} for locus in grouped_loci}).T\n",
    "locus_df.to_csv(os.path.join(OUT,\"locus_df.csv\"))"
   ]
  },
  {
   "cell_type": "code",
   "execution_count": null,
   "metadata": {},
   "outputs": [],
   "source": []
  }
 ],
 "metadata": {
  "kernelspec": {
   "display_name": "Python 3",
   "language": "python",
   "name": "python3"
  },
  "language_info": {
   "codemirror_mode": {
    "name": "ipython",
    "version": 3
   },
   "file_extension": ".py",
   "mimetype": "text/x-python",
   "name": "python",
   "nbconvert_exporter": "python",
   "pygments_lexer": "ipython3",
   "version": "3.5.2"
  }
 },
 "nbformat": 4,
 "nbformat_minor": 2
}
