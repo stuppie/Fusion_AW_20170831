{
 "cells": [
  {
   "cell_type": "code",
   "execution_count": 1,
   "metadata": {},
   "outputs": [
    {
     "name": "stderr",
     "output_type": "stream",
     "text": [
      "Loading required package: Biobase\n",
      "Loading required package: BiocGenerics\n",
      "Loading required package: parallel\n",
      "\n",
      "Attaching package: ‘BiocGenerics’\n",
      "\n",
      "The following objects are masked from ‘package:parallel’:\n",
      "\n",
      "    clusterApply, clusterApplyLB, clusterCall, clusterEvalQ,\n",
      "    clusterExport, clusterMap, parApply, parCapply, parLapply,\n",
      "    parLapplyLB, parRapply, parSapply, parSapplyLB\n",
      "\n",
      "The following objects are masked from ‘package:stats’:\n",
      "\n",
      "    IQR, mad, sd, var, xtabs\n",
      "\n",
      "The following objects are masked from ‘package:base’:\n",
      "\n",
      "    anyDuplicated, append, as.data.frame, cbind, colMeans, colnames,\n",
      "    colSums, do.call, duplicated, eval, evalq, Filter, Find, get, grep,\n",
      "    grepl, intersect, is.unsorted, lapply, lengths, Map, mapply, match,\n",
      "    mget, order, paste, pmax, pmax.int, pmin, pmin.int, Position, rank,\n",
      "    rbind, Reduce, rowMeans, rownames, rowSums, sapply, setdiff, sort,\n",
      "    table, tapply, union, unique, unsplit, which, which.max, which.min\n",
      "\n",
      "Welcome to Bioconductor\n",
      "\n",
      "    Vignettes contain introductory material; view with\n",
      "    'browseVignettes()'. To cite Bioconductor, see\n",
      "    'citation(\"Biobase\")', and for packages 'citation(\"pkgname\")'.\n",
      "\n",
      "Loading required package: lattice\n",
      "Loading required package: annotate\n",
      "Loading required package: AnnotationDbi\n",
      "Loading required package: stats4\n",
      "Loading required package: IRanges\n",
      "Loading required package: S4Vectors\n",
      "\n",
      "Attaching package: ‘S4Vectors’\n",
      "\n",
      "The following object is masked from ‘package:base’:\n",
      "\n",
      "    expand.grid\n",
      "\n",
      "Loading required package: XML\n",
      "Loading required package: GenomicRanges\n",
      "Loading required package: GenomeInfoDb\n",
      "Loading required package: SummarizedExperiment\n",
      "Loading required package: DelayedArray\n",
      "Loading required package: matrixStats\n",
      "\n",
      "Attaching package: ‘matrixStats’\n",
      "\n",
      "The following objects are masked from ‘package:genefilter’:\n",
      "\n",
      "    rowSds, rowVars\n",
      "\n",
      "The following objects are masked from ‘package:Biobase’:\n",
      "\n",
      "    anyMissing, rowMedians\n",
      "\n",
      "\n",
      "Attaching package: ‘DelayedArray’\n",
      "\n",
      "The following objects are masked from ‘package:matrixStats’:\n",
      "\n",
      "    colMaxs, colMins, colRanges, rowMaxs, rowMins, rowRanges\n",
      "\n",
      "The following object is masked from ‘package:base’:\n",
      "\n",
      "    apply\n",
      "\n"
     ]
    },
    {
     "data": {
      "text/html": [
       "'/home/gstupp/projects/Wolan/wolan/Fusion_AW_20170831'"
      ],
      "text/latex": [
       "'/home/gstupp/projects/Wolan/wolan/Fusion\\_AW\\_20170831'"
      ],
      "text/markdown": [
       "'/home/gstupp/projects/Wolan/wolan/Fusion_AW_20170831'"
      ],
      "text/plain": [
       "[1] \"/home/gstupp/projects/Wolan/wolan/Fusion_AW_20170831\""
      ]
     },
     "metadata": {},
     "output_type": "display_data"
    }
   ],
   "source": [
    "library(\"geneplotter\")\n",
    "library(\"ggplot2\")\n",
    "library(\"vsn\")\n",
    "library(\"genefilter\")\n",
    "library(\"DESeq2\")\n",
    "getwd()"
   ]
  },
  {
   "cell_type": "code",
   "execution_count": 2,
   "metadata": {},
   "outputs": [
    {
     "data": {
      "text/html": [
       "<table>\n",
       "<thead><tr><th></th><th scope=col>biological</th><th scope=col>technical</th><th scope=col>unenriched</th><th scope=col>probe</th><th scope=col>sample_type</th><th scope=col>sample_type2</th><th scope=col>sample_name</th><th scope=col>path</th></tr></thead>\n",
       "<tbody>\n",
       "\t<tr><th scope=row>Neg1rep1</th><td>1                                    </td><td>1                                    </td><td>FALSE                                </td><td>FALSE                                </td><td>neg                                  </td><td>probe                                </td><td>neg1                                 </td><td>data/Neg1rep1/DTASelect-filter.txt   </td></tr>\n",
       "\t<tr><th scope=row>unenriched1</th><td>1                                    </td><td>1                                    </td><td> TRUE                                </td><td>FALSE                                </td><td>unenriched                           </td><td>unenriched                           </td><td>unenriched1                          </td><td>data/unenriched1/DTASelect-filter.txt</td></tr>\n",
       "\t<tr><th scope=row>unenriched2</th><td>2                                    </td><td>1                                    </td><td> TRUE                                </td><td>FALSE                                </td><td>unenriched                           </td><td>unenriched                           </td><td>unenriched2                          </td><td>data/unenriched2/DTASelect-filter.txt</td></tr>\n",
       "\t<tr><th scope=row>unenriched3</th><td>3                                    </td><td>1                                    </td><td> TRUE                                </td><td>FALSE                                </td><td>unenriched                           </td><td>unenriched                           </td><td>unenriched3                          </td><td>data/unenriched3/DTASelect-filter.txt</td></tr>\n",
       "\t<tr><th scope=row>VK1rep1</th><td>1                                    </td><td>1                                    </td><td>FALSE                                </td><td> TRUE                                </td><td>probe                                </td><td>probe                                </td><td>vk1                                  </td><td>data/VK1rep1/DTASelect-filter.txt    </td></tr>\n",
       "\t<tr><th scope=row>VK3rep1</th><td>1                                    </td><td>1                                    </td><td>FALSE                                </td><td> TRUE                                </td><td>probe                                </td><td>probe                                </td><td>vk3                                  </td><td>data/VK3rep1/DTASelect-filter.txt    </td></tr>\n",
       "\t<tr><th scope=row>VK5rep1</th><td>1                                    </td><td>1                                    </td><td>FALSE                                </td><td> TRUE                                </td><td>probe                                </td><td>probe                                </td><td>vk5                                  </td><td>data/VK5rep1/DTASelect-filter.txt    </td></tr>\n",
       "</tbody>\n",
       "</table>\n"
      ],
      "text/latex": [
       "\\begin{tabular}{r|llllllll}\n",
       "  & biological & technical & unenriched & probe & sample\\_type & sample\\_type2 & sample\\_name & path\\\\\n",
       "\\hline\n",
       "\tNeg1rep1 & 1                                     & 1                                     & FALSE                                 & FALSE                                 & neg                                   & probe                                 & neg1                                  & data/Neg1rep1/DTASelect-filter.txt   \\\\\n",
       "\tunenriched1 & 1                                     & 1                                     &  TRUE                                 & FALSE                                 & unenriched                            & unenriched                            & unenriched1                           & data/unenriched1/DTASelect-filter.txt\\\\\n",
       "\tunenriched2 & 2                                     & 1                                     &  TRUE                                 & FALSE                                 & unenriched                            & unenriched                            & unenriched2                           & data/unenriched2/DTASelect-filter.txt\\\\\n",
       "\tunenriched3 & 3                                     & 1                                     &  TRUE                                 & FALSE                                 & unenriched                            & unenriched                            & unenriched3                           & data/unenriched3/DTASelect-filter.txt\\\\\n",
       "\tVK1rep1 & 1                                     & 1                                     & FALSE                                 &  TRUE                                 & probe                                 & probe                                 & vk1                                   & data/VK1rep1/DTASelect-filter.txt    \\\\\n",
       "\tVK3rep1 & 1                                     & 1                                     & FALSE                                 &  TRUE                                 & probe                                 & probe                                 & vk3                                   & data/VK3rep1/DTASelect-filter.txt    \\\\\n",
       "\tVK5rep1 & 1                                     & 1                                     & FALSE                                 &  TRUE                                 & probe                                 & probe                                 & vk5                                   & data/VK5rep1/DTASelect-filter.txt    \\\\\n",
       "\\end{tabular}\n"
      ],
      "text/markdown": [
       "\n",
       "| <!--/--> | biological | technical | unenriched | probe | sample_type | sample_type2 | sample_name | path | \n",
       "|---|---|---|---|---|---|---|\n",
       "| Neg1rep1 | 1                                     | 1                                     | FALSE                                 | FALSE                                 | neg                                   | probe                                 | neg1                                  | data/Neg1rep1/DTASelect-filter.txt    | \n",
       "| unenriched1 | 1                                     | 1                                     |  TRUE                                 | FALSE                                 | unenriched                            | unenriched                            | unenriched1                           | data/unenriched1/DTASelect-filter.txt | \n",
       "| unenriched2 | 2                                     | 1                                     |  TRUE                                 | FALSE                                 | unenriched                            | unenriched                            | unenriched2                           | data/unenriched2/DTASelect-filter.txt | \n",
       "| unenriched3 | 3                                     | 1                                     |  TRUE                                 | FALSE                                 | unenriched                            | unenriched                            | unenriched3                           | data/unenriched3/DTASelect-filter.txt | \n",
       "| VK1rep1 | 1                                     | 1                                     | FALSE                                 |  TRUE                                 | probe                                 | probe                                 | vk1                                   | data/VK1rep1/DTASelect-filter.txt     | \n",
       "| VK3rep1 | 1                                     | 1                                     | FALSE                                 |  TRUE                                 | probe                                 | probe                                 | vk3                                   | data/VK3rep1/DTASelect-filter.txt     | \n",
       "| VK5rep1 | 1                                     | 1                                     | FALSE                                 |  TRUE                                 | probe                                 | probe                                 | vk5                                   | data/VK5rep1/DTASelect-filter.txt     | \n",
       "\n",
       "\n"
      ],
      "text/plain": [
       "            biological technical unenriched probe sample_type sample_type2\n",
       "Neg1rep1    1          1         FALSE      FALSE neg         probe       \n",
       "unenriched1 1          1          TRUE      FALSE unenriched  unenriched  \n",
       "unenriched2 2          1          TRUE      FALSE unenriched  unenriched  \n",
       "unenriched3 3          1          TRUE      FALSE unenriched  unenriched  \n",
       "VK1rep1     1          1         FALSE       TRUE probe       probe       \n",
       "VK3rep1     1          1         FALSE       TRUE probe       probe       \n",
       "VK5rep1     1          1         FALSE       TRUE probe       probe       \n",
       "            sample_name path                                 \n",
       "Neg1rep1    neg1        data/Neg1rep1/DTASelect-filter.txt   \n",
       "unenriched1 unenriched1 data/unenriched1/DTASelect-filter.txt\n",
       "unenriched2 unenriched2 data/unenriched2/DTASelect-filter.txt\n",
       "unenriched3 unenriched3 data/unenriched3/DTASelect-filter.txt\n",
       "VK1rep1     vk1         data/VK1rep1/DTASelect-filter.txt    \n",
       "VK3rep1     vk3         data/VK3rep1/DTASelect-filter.txt    \n",
       "VK5rep1     vk5         data/VK5rep1/DTASelect-filter.txt    "
      ]
     },
     "metadata": {},
     "output_type": "display_data"
    }
   ],
   "source": [
    "meta_path = \"metadata.csv\"\n",
    "sampleTable = read.csv(meta_path, row.names = 1)\n",
    "sampleTable$biological=factor(sampleTable$biological)\n",
    "sampleTable$technical=factor(sampleTable$technical)\n",
    "sampleTable$sample_type=factor(sampleTable$sample_type)\n",
    "sampleTable$sample_type2=factor(sampleTable$sample_type2)\n",
    "sampleTable$sample_type <- relevel(sampleTable$sample_type, ref=\"unenriched\")\n",
    "sampleTable$sample_type2 <- relevel(sampleTable$sample_type2, ref=\"unenriched\")\n",
    "sampleTable"
   ]
  },
  {
   "cell_type": "code",
   "execution_count": 4,
   "metadata": {},
   "outputs": [],
   "source": [
    "countData = read.csv(\"out/df_subtract.csv\", row.names = 1)\n",
    "locusTable = read.csv(\"out/locus_df.csv\", row.names = 1)\n",
    "sampleTable = sampleTable[colnames(countData),]"
   ]
  },
  {
   "cell_type": "code",
   "execution_count": 6,
   "metadata": {},
   "outputs": [
    {
     "name": "stderr",
     "output_type": "stream",
     "text": [
      "factor levels were dropped which had no samples\n",
      "estimating size factors\n",
      "estimating dispersions\n",
      "gene-wise dispersion estimates\n",
      "mean-dispersion relationship\n",
      "final dispersion estimates\n",
      "fitting model and testing\n"
     ]
    }
   ],
   "source": [
    "dds = DESeqDataSetFromMatrix(countData, colData = sampleTable, ~ sample_type)\n",
    "dds = DESeq(dds)"
   ]
  },
  {
   "cell_type": "code",
   "execution_count": 7,
   "metadata": {},
   "outputs": [
    {
     "data": {
      "text/html": [
       "<table>\n",
       "<thead><tr><th></th><th scope=col>VK1rep1</th><th scope=col>VK3rep1</th><th scope=col>VK5rep1</th><th scope=col>unenriched1</th><th scope=col>unenriched2</th><th scope=col>unenriched3</th></tr></thead>\n",
       "<tbody>\n",
       "\t<tr><th scope=row>86769</th><td> 0</td><td> 6</td><td> 0</td><td>12</td><td>13</td><td>13</td></tr>\n",
       "\t<tr><th scope=row>187020</th><td> 0</td><td> 0</td><td> 0</td><td> 3</td><td> 4</td><td> 5</td></tr>\n",
       "\t<tr><th scope=row>202956</th><td>11</td><td>10</td><td>18</td><td>14</td><td>15</td><td>12</td></tr>\n",
       "\t<tr><th scope=row>209005</th><td>17</td><td>12</td><td> 9</td><td>13</td><td>16</td><td>23</td></tr>\n",
       "\t<tr><th scope=row>374028</th><td> 0</td><td> 0</td><td> 0</td><td>16</td><td>16</td><td>16</td></tr>\n",
       "\t<tr><th scope=row>566971</th><td> 5</td><td> 0</td><td> 0</td><td> 4</td><td> 0</td><td> 2</td></tr>\n",
       "</tbody>\n",
       "</table>\n"
      ],
      "text/latex": [
       "\\begin{tabular}{r|llllll}\n",
       "  & VK1rep1 & VK3rep1 & VK5rep1 & unenriched1 & unenriched2 & unenriched3\\\\\n",
       "\\hline\n",
       "\t86769 &  0 &  6 &  0 & 12 & 13 & 13\\\\\n",
       "\t187020 &  0 &  0 &  0 &  3 &  4 &  5\\\\\n",
       "\t202956 & 11 & 10 & 18 & 14 & 15 & 12\\\\\n",
       "\t209005 & 17 & 12 &  9 & 13 & 16 & 23\\\\\n",
       "\t374028 &  0 &  0 &  0 & 16 & 16 & 16\\\\\n",
       "\t566971 &  5 &  0 &  0 &  4 &  0 &  2\\\\\n",
       "\\end{tabular}\n"
      ],
      "text/markdown": [
       "\n",
       "| <!--/--> | VK1rep1 | VK3rep1 | VK5rep1 | unenriched1 | unenriched2 | unenriched3 | \n",
       "|---|---|---|---|---|---|\n",
       "| 86769 |  0 |  6 |  0 | 12 | 13 | 13 | \n",
       "| 187020 |  0 |  0 |  0 |  3 |  4 |  5 | \n",
       "| 202956 | 11 | 10 | 18 | 14 | 15 | 12 | \n",
       "| 209005 | 17 | 12 |  9 | 13 | 16 | 23 | \n",
       "| 374028 |  0 |  0 |  0 | 16 | 16 | 16 | \n",
       "| 566971 |  5 |  0 |  0 |  4 |  0 |  2 | \n",
       "\n",
       "\n"
      ],
      "text/plain": [
       "       VK1rep1 VK3rep1 VK5rep1 unenriched1 unenriched2 unenriched3\n",
       "86769   0       6       0      12          13          13         \n",
       "187020  0       0       0       3           4           5         \n",
       "202956 11      10      18      14          15          12         \n",
       "209005 17      12       9      13          16          23         \n",
       "374028  0       0       0      16          16          16         \n",
       "566971  5       0       0       4           0           2         "
      ]
     },
     "metadata": {},
     "output_type": "display_data"
    }
   ],
   "source": [
    "head(counts(dds))"
   ]
  },
  {
   "cell_type": "code",
   "execution_count": 8,
   "metadata": {},
   "outputs": [
    {
     "data": {
      "text/html": [
       "<table>\n",
       "<thead><tr><th></th><th scope=col>biological</th><th scope=col>technical</th><th scope=col>unenriched</th><th scope=col>probe</th><th scope=col>sample_type</th><th scope=col>sample_type2</th><th scope=col>sample_name</th><th scope=col>path</th></tr></thead>\n",
       "<tbody>\n",
       "\t<tr><th scope=row>VK1rep1</th><td>1                                    </td><td>1                                    </td><td>FALSE                                </td><td> TRUE                                </td><td>probe                                </td><td>probe                                </td><td>vk1                                  </td><td>data/VK1rep1/DTASelect-filter.txt    </td></tr>\n",
       "\t<tr><th scope=row>VK3rep1</th><td>1                                    </td><td>1                                    </td><td>FALSE                                </td><td> TRUE                                </td><td>probe                                </td><td>probe                                </td><td>vk3                                  </td><td>data/VK3rep1/DTASelect-filter.txt    </td></tr>\n",
       "\t<tr><th scope=row>VK5rep1</th><td>1                                    </td><td>1                                    </td><td>FALSE                                </td><td> TRUE                                </td><td>probe                                </td><td>probe                                </td><td>vk5                                  </td><td>data/VK5rep1/DTASelect-filter.txt    </td></tr>\n",
       "\t<tr><th scope=row>unenriched1</th><td>1                                    </td><td>1                                    </td><td> TRUE                                </td><td>FALSE                                </td><td>unenriched                           </td><td>unenriched                           </td><td>unenriched1                          </td><td>data/unenriched1/DTASelect-filter.txt</td></tr>\n",
       "\t<tr><th scope=row>unenriched2</th><td>2                                    </td><td>1                                    </td><td> TRUE                                </td><td>FALSE                                </td><td>unenriched                           </td><td>unenriched                           </td><td>unenriched2                          </td><td>data/unenriched2/DTASelect-filter.txt</td></tr>\n",
       "\t<tr><th scope=row>unenriched3</th><td>3                                    </td><td>1                                    </td><td> TRUE                                </td><td>FALSE                                </td><td>unenriched                           </td><td>unenriched                           </td><td>unenriched3                          </td><td>data/unenriched3/DTASelect-filter.txt</td></tr>\n",
       "</tbody>\n",
       "</table>\n"
      ],
      "text/latex": [
       "\\begin{tabular}{r|llllllll}\n",
       "  & biological & technical & unenriched & probe & sample\\_type & sample\\_type2 & sample\\_name & path\\\\\n",
       "\\hline\n",
       "\tVK1rep1 & 1                                     & 1                                     & FALSE                                 &  TRUE                                 & probe                                 & probe                                 & vk1                                   & data/VK1rep1/DTASelect-filter.txt    \\\\\n",
       "\tVK3rep1 & 1                                     & 1                                     & FALSE                                 &  TRUE                                 & probe                                 & probe                                 & vk3                                   & data/VK3rep1/DTASelect-filter.txt    \\\\\n",
       "\tVK5rep1 & 1                                     & 1                                     & FALSE                                 &  TRUE                                 & probe                                 & probe                                 & vk5                                   & data/VK5rep1/DTASelect-filter.txt    \\\\\n",
       "\tunenriched1 & 1                                     & 1                                     &  TRUE                                 & FALSE                                 & unenriched                            & unenriched                            & unenriched1                           & data/unenriched1/DTASelect-filter.txt\\\\\n",
       "\tunenriched2 & 2                                     & 1                                     &  TRUE                                 & FALSE                                 & unenriched                            & unenriched                            & unenriched2                           & data/unenriched2/DTASelect-filter.txt\\\\\n",
       "\tunenriched3 & 3                                     & 1                                     &  TRUE                                 & FALSE                                 & unenriched                            & unenriched                            & unenriched3                           & data/unenriched3/DTASelect-filter.txt\\\\\n",
       "\\end{tabular}\n"
      ],
      "text/markdown": [
       "\n",
       "| <!--/--> | biological | technical | unenriched | probe | sample_type | sample_type2 | sample_name | path | \n",
       "|---|---|---|---|---|---|\n",
       "| VK1rep1 | 1                                     | 1                                     | FALSE                                 |  TRUE                                 | probe                                 | probe                                 | vk1                                   | data/VK1rep1/DTASelect-filter.txt     | \n",
       "| VK3rep1 | 1                                     | 1                                     | FALSE                                 |  TRUE                                 | probe                                 | probe                                 | vk3                                   | data/VK3rep1/DTASelect-filter.txt     | \n",
       "| VK5rep1 | 1                                     | 1                                     | FALSE                                 |  TRUE                                 | probe                                 | probe                                 | vk5                                   | data/VK5rep1/DTASelect-filter.txt     | \n",
       "| unenriched1 | 1                                     | 1                                     |  TRUE                                 | FALSE                                 | unenriched                            | unenriched                            | unenriched1                           | data/unenriched1/DTASelect-filter.txt | \n",
       "| unenriched2 | 2                                     | 1                                     |  TRUE                                 | FALSE                                 | unenriched                            | unenriched                            | unenriched2                           | data/unenriched2/DTASelect-filter.txt | \n",
       "| unenriched3 | 3                                     | 1                                     |  TRUE                                 | FALSE                                 | unenriched                            | unenriched                            | unenriched3                           | data/unenriched3/DTASelect-filter.txt | \n",
       "\n",
       "\n"
      ],
      "text/plain": [
       "            biological technical unenriched probe sample_type sample_type2\n",
       "VK1rep1     1          1         FALSE       TRUE probe       probe       \n",
       "VK3rep1     1          1         FALSE       TRUE probe       probe       \n",
       "VK5rep1     1          1         FALSE       TRUE probe       probe       \n",
       "unenriched1 1          1          TRUE      FALSE unenriched  unenriched  \n",
       "unenriched2 2          1          TRUE      FALSE unenriched  unenriched  \n",
       "unenriched3 3          1          TRUE      FALSE unenriched  unenriched  \n",
       "            sample_name path                                 \n",
       "VK1rep1     vk1         data/VK1rep1/DTASelect-filter.txt    \n",
       "VK3rep1     vk3         data/VK3rep1/DTASelect-filter.txt    \n",
       "VK5rep1     vk5         data/VK5rep1/DTASelect-filter.txt    \n",
       "unenriched1 unenriched1 data/unenriched1/DTASelect-filter.txt\n",
       "unenriched2 unenriched2 data/unenriched2/DTASelect-filter.txt\n",
       "unenriched3 unenriched3 data/unenriched3/DTASelect-filter.txt"
      ]
     },
     "metadata": {},
     "output_type": "display_data"
    }
   ],
   "source": [
    "sampleTable"
   ]
  },
  {
   "cell_type": "code",
   "execution_count": 9,
   "metadata": {},
   "outputs": [],
   "source": [
    "#mcols(dds)<-cbind(mcols(dds),locusTable)\n",
    "save(dds, file = \"out/dds\")"
   ]
  },
  {
   "cell_type": "code",
   "execution_count": 10,
   "metadata": {},
   "outputs": [
    {
     "name": "stdout",
     "output_type": "stream",
     "text": [
      "\n",
      "out of 14572 with nonzero total read count\n",
      "adjusted p-value < 0.1\n",
      "LFC > 0 (up)     : 2224, 15% \n",
      "LFC < 0 (down)   : 4046, 28% \n",
      "outliers [1]     : 0, 0% \n",
      "low counts [2]   : 0, 0% \n",
      "(mean count < 0)\n",
      "[1] see 'cooksCutoff' argument of ?results\n",
      "[2] see 'independentFiltering' argument of ?results\n",
      "\n"
     ]
    }
   ],
   "source": [
    "res = results(dds, contrast=c(\"sample_type\",\"probe\",\"unenriched\"))\n",
    "summary(res)"
   ]
  },
  {
   "cell_type": "code",
   "execution_count": 11,
   "metadata": {},
   "outputs": [],
   "source": [
    "res = cbind(res, locusTable)\n",
    "save(res, file = \"out/res_probe_unenriched\")"
   ]
  },
  {
   "cell_type": "code",
   "execution_count": 12,
   "metadata": {},
   "outputs": [],
   "source": [
    "resOrdered <- res[order(res$padj),]\n",
    "write.csv(as.data.frame(resOrdered),file=\"out/probe_unenriched_deseq_results.csv\")"
   ]
  },
  {
   "cell_type": "code",
   "execution_count": null,
   "metadata": {},
   "outputs": [],
   "source": []
  }
 ],
 "metadata": {
  "kernelspec": {
   "display_name": "R",
   "language": "R",
   "name": "ir"
  },
  "language_info": {
   "codemirror_mode": "r",
   "file_extension": ".r",
   "mimetype": "text/x-r-source",
   "name": "R",
   "pygments_lexer": "r",
   "version": "3.4.4"
  }
 },
 "nbformat": 4,
 "nbformat_minor": 2
}
